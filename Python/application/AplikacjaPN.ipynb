{
 "cells": [
  {
   "cell_type": "code",
   "execution_count": null,
   "metadata": {},
   "outputs": [],
   "source": [
    "import pandas as pd\n",
    "import matplotlib.pyplot as plt\n",
    "import ipywidgets as widgets"
   ]
  },
  {
   "cell_type": "code",
   "execution_count": null,
   "metadata": {},
   "outputs": [],
   "source": [
    "df = pd.read_csv(\"WA_Fn-UseC_-HR-Employee-Attrition.csv\") "
   ]
  },
  {
   "cell_type": "code",
   "execution_count": null,
   "metadata": {},
   "outputs": [],
   "source": [
    "df"
   ]
  },
  {
   "cell_type": "code",
   "execution_count": null,
   "metadata": {},
   "outputs": [],
   "source": [
    "#podstawowe parametry\n",
    "yes = df.loc[df['OverTime'] == \"Yes\"]\n",
    "no = df.loc[df['OverTime'] == \"No\"]\n",
    "att_yes = df.loc[df['Attrition'] == \"Yes\"]\n",
    "att_no = df.loc[df['Attrition'] == \"No\"]"
   ]
  },
  {
   "cell_type": "markdown",
   "metadata": {},
   "source": [
    "# WorkLifeBalance vs. Attrition #"
   ]
  },
  {
   "cell_type": "code",
   "execution_count": null,
   "metadata": {},
   "outputs": [],
   "source": [
    "df.groupby(['Attrition', 'WorkLifeBalance'])['EmployeeCount'].count().unstack(fill_value=0)"
   ]
  },
  {
   "cell_type": "code",
   "execution_count": null,
   "metadata": {},
   "outputs": [],
   "source": [
    "from IPython.display import display\n",
    "from ipywidgets import HBox, Label\n",
    "slider_widget = widgets.FloatSlider(\n",
    "    value=1,\n",
    "    min=1,\n",
    "    max=4,\n",
    "    step=1,\n",
    "    description='',\n",
    "    disabled=False,\n",
    "    continuous_update=False,\n",
    "    orientation='horizontal',\n",
    "    readout=True,\n",
    "    readout_format='d',\n",
    ")\n",
    "slider_widget\n",
    "HBox([Label('Give your WorkLifeBalanse on a scale of 1 to 4: (4 is the highest rating)'), slider_widget])"
   ]
  },
  {
   "cell_type": "code",
   "execution_count": null,
   "metadata": {},
   "outputs": [],
   "source": [
    "x = int(slider_widget.value)\n",
    "y = \"WorkLifeBalance\"\n",
    "sprawdzana = df.loc[df[y] == x]\n",
    "suma_spraw = sprawdzana + att_yes\n",
    "sprawdzenie = suma_spraw[\"EmployeeCount\"].count()\n",
    "suma_yes = sprawdzana + att_yes\n",
    "suma_no = sprawdzana + att_no\n",
    "suma_cal = suma_yes[\"EmployeeCount\"].count() + suma_no[\"EmployeeCount\"].count()\n",
    "p = suma_yes[\"EmployeeCount\"].count() / suma_cal\n",
    "print(\"The probability of leaving the company with given WorkLifeBalance: {0} is: {1}.\".format(x,p))"
   ]
  },
  {
   "cell_type": "markdown",
   "metadata": {},
   "source": [
    "# JobSatisfaction vs. Attrition #"
   ]
  },
  {
   "cell_type": "code",
   "execution_count": null,
   "metadata": {},
   "outputs": [],
   "source": [
    "df.groupby(['Attrition', 'JobSatisfaction'])['EmployeeCount'].count().unstack(fill_value=0)"
   ]
  },
  {
   "cell_type": "code",
   "execution_count": null,
   "metadata": {},
   "outputs": [],
   "source": [
    "from IPython.display import display\n",
    "from ipywidgets import HBox, Label\n",
    "slider_widget = widgets.FloatSlider(\n",
    "    value=1,\n",
    "    min=1,\n",
    "    max=4,\n",
    "    step=1,\n",
    "    description='',\n",
    "    disabled=False,\n",
    "    continuous_update=False,\n",
    "    orientation='horizontal',\n",
    "    readout=True,\n",
    "    readout_format='d',\n",
    ")\n",
    "slider_widget\n",
    "HBox([Label('Give your JobSatisfaction on a scale of 1 to 4: (4 is the highest rating)'), slider_widget])"
   ]
  },
  {
   "cell_type": "code",
   "execution_count": null,
   "metadata": {},
   "outputs": [],
   "source": [
    "x = int(slider_widget.value)\n",
    "y = \"JobSatisfaction\"\n",
    "sprawdzana = df.loc[df[y] == x]\n",
    "suma_spraw = sprawdzana + att_yes\n",
    "sprawdzenie = suma_spraw[\"EmployeeCount\"].count()\n",
    "suma_yes = sprawdzana + att_yes\n",
    "suma_no = sprawdzana + att_no\n",
    "suma_cal = suma_yes[\"EmployeeCount\"].count() + suma_no[\"EmployeeCount\"].count()\n",
    "p = suma_yes[\"EmployeeCount\"].count() / suma_cal\n",
    "print(\"The probability of leaving the company with given JobSatisfaction: {0} is: {1}.\".format(x,p))"
   ]
  },
  {
   "cell_type": "markdown",
   "metadata": {},
   "source": [
    "# PerformanceRating vs. Attrition #"
   ]
  },
  {
   "cell_type": "code",
   "execution_count": null,
   "metadata": {},
   "outputs": [],
   "source": [
    "df.groupby(['Attrition', 'PerformanceRating'])['EmployeeCount'].count().unstack(fill_value=0)"
   ]
  },
  {
   "cell_type": "code",
   "execution_count": null,
   "metadata": {},
   "outputs": [],
   "source": [
    "from IPython.display import display\n",
    "from ipywidgets import HBox, Label\n",
    "slider_widget = widgets.FloatSlider(\n",
    "    value=1,\n",
    "    min=3,\n",
    "    max=4,\n",
    "    step=1,\n",
    "    description='',\n",
    "    disabled=False,\n",
    "    continuous_update=False,\n",
    "    orientation='horizontal',\n",
    "    readout=True,\n",
    "    readout_format='d',\n",
    ")\n",
    "slider_widget\n",
    "HBox([Label('Give your PerformanceRating on a scale of 3 to 4: (4 is the highest rating)'), slider_widget])"
   ]
  },
  {
   "cell_type": "code",
   "execution_count": null,
   "metadata": {},
   "outputs": [],
   "source": [
    "x = int(slider_widget.value)\n",
    "y = \"PerformanceRating\"\n",
    "sprawdzana = df.loc[df[y] == x]\n",
    "suma_spraw = sprawdzana + att_yes\n",
    "sprawdzenie = suma_spraw[\"EmployeeCount\"].count()\n",
    "suma_yes = sprawdzana + att_yes\n",
    "suma_no = sprawdzana + att_no\n",
    "suma_cal = suma_yes[\"EmployeeCount\"].count() + suma_no[\"EmployeeCount\"].count()\n",
    "p = suma_yes[\"EmployeeCount\"].count() / suma_cal\n",
    "print(\"The probability of leaving the company with given PerformanceRating: {0} is: {1}.\".format(x,p))"
   ]
  },
  {
   "cell_type": "markdown",
   "metadata": {},
   "source": [
    "# EnvironmentSatisfaction vs. Attrition #"
   ]
  },
  {
   "cell_type": "code",
   "execution_count": null,
   "metadata": {},
   "outputs": [],
   "source": [
    "df.groupby(['Attrition', 'EnvironmentSatisfaction'])['EmployeeCount'].count().unstack(fill_value=0)"
   ]
  },
  {
   "cell_type": "code",
   "execution_count": null,
   "metadata": {},
   "outputs": [],
   "source": [
    "from IPython.display import display\n",
    "from ipywidgets import HBox, Label\n",
    "slider_widget = widgets.FloatSlider(\n",
    "    value=1,\n",
    "    min=1,\n",
    "    max=4,\n",
    "    step=1,\n",
    "    description='',\n",
    "    disabled=False,\n",
    "    continuous_update=False,\n",
    "    orientation='horizontal',\n",
    "    readout=True,\n",
    "    readout_format='d',\n",
    ")\n",
    "slider_widget\n",
    "HBox([Label('Give your EnvironmentSatisfaction on a scale of 1 to 4: (4 is the highest rating)'), slider_widget])"
   ]
  },
  {
   "cell_type": "code",
   "execution_count": null,
   "metadata": {},
   "outputs": [],
   "source": [
    "x = int(slider_widget.value)\n",
    "y = \"EnvironmentSatisfaction\"\n",
    "sprawdzana = df.loc[df[y] == x]\n",
    "suma_spraw = sprawdzana + att_yes\n",
    "sprawdzenie = suma_spraw[\"EmployeeCount\"].count()\n",
    "suma_yes = sprawdzana + att_yes\n",
    "suma_no = sprawdzana + att_no\n",
    "suma_cal = suma_yes[\"EmployeeCount\"].count() + suma_no[\"EmployeeCount\"].count()\n",
    "p = suma_yes[\"EmployeeCount\"].count() / suma_cal\n",
    "print(\"The probability of leaving the company with given EnvironmentSatisfaction: {0} is: {1}.\".format(x,p))"
   ]
  },
  {
   "cell_type": "markdown",
   "metadata": {},
   "source": [
    "# OverTime vs. Attrition #"
   ]
  },
  {
   "cell_type": "code",
   "execution_count": null,
   "metadata": {},
   "outputs": [],
   "source": [
    "df.groupby(['Attrition', 'OverTime'])['EmployeeCount'].count().unstack(fill_value=0)"
   ]
  },
  {
   "cell_type": "code",
   "execution_count": null,
   "metadata": {},
   "outputs": [],
   "source": [
    "suma_yes_overtimeyes = yes + att_yes\n",
    "suma_no_overtimeyes = yes + att_no\n",
    "suma_cal_overtimeyes = suma_yes_overtimeyes['EmployeeCount'].count() + suma_no_overtimeyes['EmployeeCount'].count()\n",
    "p_overtimeyes = suma_yes_overtimeyes['EmployeeCount'].count() / suma_cal_overtimeyes\n",
    "print(p_overtimeyes)"
   ]
  },
  {
   "cell_type": "code",
   "execution_count": null,
   "metadata": {},
   "outputs": [],
   "source": [
    "suma_yes_overtimeno = no + att_yes\n",
    "suma_no_overtimeno = no + att_no\n",
    "suma_cal_overtimeno = suma_yes_overtimeno['EmployeeCount'].count() + suma_no_overtimeno['EmployeeCount'].count()\n",
    "p_overtimeno = suma_yes_overtimeno['EmployeeCount'].count() / suma_cal_overtimeno\n",
    "print(p_overtimeno)"
   ]
  },
  {
   "cell_type": "code",
   "execution_count": null,
   "metadata": {},
   "outputs": [],
   "source": [
    "from IPython.display import display\n",
    "from ipywidgets import HBox, Label\n",
    "dropdown_widget = widgets.Dropdown(\n",
    "    options=[(\"Yes\", \"Yes\"), (\"No\", \"No\")],\n",
    "    value=\"Yes\",\n",
    "    description='',\n",
    ")\n",
    "dropdown_widget \n",
    "HBox([Label('Do you work overtime?:'), dropdown_widget ])"
   ]
  },
  {
   "cell_type": "code",
   "execution_count": null,
   "metadata": {},
   "outputs": [],
   "source": [
    "overtime = str(dropdown_widget.value)\n",
    "if overtime.lower() == \"Yes\":\n",
    "    print((\"The probability of leaving the company when you do overtime: {0} is: {1}.\".format(x,p))\n",
    "elif overtime.lower() == \"No\":\n",
    "    print(\"The probability of leaving the company when you dont overtime: {0} is: {1}.\".format(x,p))"
   ]
  },
  {
   "cell_type": "code",
   "execution_count": null,
   "metadata": {},
   "outputs": [],
   "source": []
  },
  {
   "cell_type": "code",
   "execution_count": null,
   "metadata": {},
   "outputs": [],
   "source": []
  }
 ],
 "metadata": {
  "kernelspec": {
   "display_name": "Python 3",
   "language": "python",
   "name": "python3"
  },
  "language_info": {
   "codemirror_mode": {
    "name": "ipython",
    "version": 3
   },
   "file_extension": ".py",
   "mimetype": "text/x-python",
   "name": "python",
   "nbconvert_exporter": "python",
   "pygments_lexer": "ipython3",
   "version": "3.8.5"
  }
 },
 "nbformat": 4,
 "nbformat_minor": 4
}
