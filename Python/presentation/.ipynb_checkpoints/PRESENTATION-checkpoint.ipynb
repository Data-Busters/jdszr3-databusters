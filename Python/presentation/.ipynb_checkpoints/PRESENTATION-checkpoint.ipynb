{
 "cells": [
  {
   "cell_type": "markdown",
   "metadata": {},
   "source": [
    "![logo](./logo.png)"
   ]
  },
  {
   "cell_type": "markdown",
   "metadata": {},
   "source": [
    "# $$IBM HR Analytics Employee Attrition & Performance$$"
   ]
  },
  {
   "cell_type": "markdown",
   "metadata": {},
   "source": [
    "**Team members:**\n",
    "\n",
    "1. [Kinga Klejne](https://github.com/KingaKlejne)\n",
    "2. [Katarzyna Hewelt](https://github.com/kasiahewelt)\n",
    "3. [Karolina Mastalerz](https://github.com/karolinamst)\n",
    "4. [Piotr Nowicki](https://github.com/piotrnowicki1510)\n",
    "5. [Dariusz Starosta](https://github.com/darstar-ds)"
   ]
  },
  {
   "cell_type": "code",
   "execution_count": null,
   "metadata": {},
   "outputs": [],
   "source": []
  }
 ],
 "metadata": {
  "kernelspec": {
   "display_name": "Python 3",
   "language": "python",
   "name": "python3"
  },
  "language_info": {
   "codemirror_mode": {
    "name": "ipython",
    "version": 3
   },
   "file_extension": ".py",
   "mimetype": "text/x-python",
   "name": "python",
   "nbconvert_exporter": "python",
   "pygments_lexer": "ipython3",
   "version": "3.8.5"
  }
 },
 "nbformat": 4,
 "nbformat_minor": 4
}
