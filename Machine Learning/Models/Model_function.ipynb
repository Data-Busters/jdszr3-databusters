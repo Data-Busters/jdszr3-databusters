{
 "cells": [
  {
   "cell_type": "code",
   "execution_count": 1,
   "id": "combined-privilege",
   "metadata": {},
   "outputs": [],
   "source": [
    "import pandas as pd\n",
    "from sklearn.linear_model import LogisticRegression\n",
    "from sklearn.preprocessing import OneHotEncoder, OrdinalEncoder, LabelEncoder\n",
    "from sklearn.model_selection import train_test_split\n",
    "from sklearn.tree import DecisionTreeClassifier\n",
    "from sklearn.linear_model import LogisticRegression\n",
    "from sklearn.neighbors import KNeighborsClassifier\n",
    "from sklearn.cluster import KMeans\n",
    "from sklearn import svm\n",
    "import xgboost as xgb\n",
    "from sklearn.model_selection import GridSearchCV"
   ]
  },
  {
   "cell_type": "code",
   "execution_count": 2,
   "id": "activated-sandwich",
   "metadata": {},
   "outputs": [],
   "source": [
    "df_raw = pd.read_csv(\"nasa.csv\")"
   ]
  },
  {
   "cell_type": "code",
   "execution_count": 3,
   "id": "handmade-daniel",
   "metadata": {},
   "outputs": [],
   "source": [
    "df = df_raw.copy()"
   ]
  },
  {
   "cell_type": "code",
   "execution_count": 4,
   "id": "excessive-dress",
   "metadata": {},
   "outputs": [],
   "source": [
    "def encoding(data, column_name, function_name):\n",
    "    ''' data = df\n",
    "        column_name = populate only 1 column name!\n",
    "        function_name - choose one of the below:\n",
    "            LabelEncoder\n",
    "            OneHotEncoder\n",
    "            get_dummies\n",
    "            OrdinalEncoder\n",
    "    '''\n",
    "    if function_name == LabelEncoder:\n",
    "        column = data[column_name]\n",
    "        encoder = function_name()\n",
    "        encoder.fit(column)\n",
    "        data[column_name] = encoder.fit_transform(column)\n",
    "    elif function_name == OneHotEncoder:\n",
    "        column = np.array(data[column_name]).reshape(-1,1)\n",
    "        encoder = function_name(drop = 'first', sparse=False)\n",
    "        encoder.fit(column)\n",
    "        new = encoder.transform(column)\n",
    "        categories = encoder.categories_\n",
    "        for i in range(len(categories[0]) - 1):\n",
    "            data[column_name + \"_\" + categories[0][i]] = pd.Series(new[:,i])\n",
    "        data.drop(columns=column_name, inplace=True)\n",
    "    elif function_name == get_dummies:\n",
    "        pd.get_dummies(data, drop_first=True, columns = [column_name])\n",
    "    elif function_name == OrdinalEncoder:\n",
    "        column = np.array(data[column_name]).reshape(-1,1)\n",
    "        encoder = function_name()\n",
    "        encoder.fit(column)\n",
    "        new = encoder.transform(column)\n",
    "        data[column_name] = pd.Series(new[:,0])\n",
    "\n",
    "    else:\n",
    "        print('Some data must have been populated incorrectly, please check again')"
   ]
  },
  {
   "cell_type": "code",
   "execution_count": 5,
   "id": "measured-sauce",
   "metadata": {},
   "outputs": [],
   "source": [
    "def standardization(data, column_name, function_name):\n",
    "    \"\"\" data = df\n",
    "        column_name = populate only 1 column name!\n",
    "        function_name - choose one of the below:\n",
    "            standardize: return (column_name - column_name.mean()) / column_name.std()\n",
    "            StandardScaler\n",
    "            scale\n",
    "    \"\"\"\n",
    "    if function_name == standardize:\n",
    "        column = data[column_name]\n",
    "        data[column_name] = (column - column.mean()) / column.std()\n",
    "    elif function_name == StandardScaler:\n",
    "        column = data[[column_name]]\n",
    "        scaler = StandardScaler()\n",
    "        data[column_name] = scaler.fit_transform(column)\n",
    "    elif function_name == scale:\n",
    "        column = data[column_name]\n",
    "        data[column_name] = scale(column)\n",
    "    else:\n",
    "        print('Some data must have been populated incorrectly, please check again')"
   ]
  },
  {
   "cell_type": "code",
   "execution_count": 6,
   "id": "inside-elite",
   "metadata": {},
   "outputs": [],
   "source": [
    "def drop_data(data, columns):\n",
    "    \"\"\" as a 'columns', provide a list of columns' names\n",
    "    \"\"\"\n",
    "    data.drop(columns, axis='columns', inplace=True)"
   ]
  },
  {
   "cell_type": "code",
   "execution_count": 7,
   "id": "completed-volleyball",
   "metadata": {},
   "outputs": [],
   "source": [
    "drop_data(df, ['Orbiting Body', 'Equinox', 'Est Dia in M(min)', 'Est Dia in M(max)', 'Close Approach Date', \n",
    "           'Est Dia in Miles(min)','Est Dia in Miles(max)', 'Est Dia in Feet(min)', 'Est Dia in Feet(max)',\n",
    "           'Miss Dist.(Astronomical)', 'Miss Dist.(lunar)', 'Miss Dist.(miles)', 'Orbit Determination Date'])"
   ]
  },
  {
   "cell_type": "code",
   "execution_count": 8,
   "id": "sacred-married",
   "metadata": {},
   "outputs": [],
   "source": [
    "# def datasets(data, column_name, test_size, random_state):\n",
    "#     target = data[column_name]\n",
    "#     new_data = data.copy()\n",
    "#     drop_data(new_data, column_name)\n",
    "#     X = new_data\n",
    "#     Y = target\n",
    "#     X_train, X_test, y_train, y_test = train_test_split(X, Y, test_size = test_size, random_state = random_state)"
   ]
  },
  {
   "cell_type": "code",
   "execution_count": 9,
   "id": "unable-theology",
   "metadata": {},
   "outputs": [],
   "source": [
    "encoding(df, 'Hazardous', LabelEncoder)"
   ]
  },
  {
   "cell_type": "code",
   "execution_count": 10,
   "id": "documentary-therapy",
   "metadata": {},
   "outputs": [],
   "source": [
    "# datasets(df, 'Hazardous', 0.2, 42)"
   ]
  },
  {
   "cell_type": "code",
   "execution_count": 11,
   "id": "medieval-constant",
   "metadata": {},
   "outputs": [],
   "source": [
    "data = df\n",
    "column_name = 'Hazardous'\n",
    "test_size = 0.2\n",
    "random_state = 42\n",
    "\n",
    "target = data[column_name]\n",
    "new_data = data.copy()\n",
    "drop_data(new_data, column_name)\n",
    "X = new_data\n",
    "Y = target\n",
    "X_train, X_test, y_train, y_test = train_test_split(X, Y, test_size = test_size, random_state = random_state)"
   ]
  },
  {
   "cell_type": "code",
   "execution_count": 12,
   "id": "working-industry",
   "metadata": {},
   "outputs": [],
   "source": [
    "def model_basics(model_name):\n",
    "    if model_name == 'lg':\n",
    "        model = LogisticRegression(random_state=42)\n",
    "    elif model_name == 'dt':\n",
    "        model = DecisionTreeClassifier(max_depth=4 , min_samples_leaf=3)\n",
    "    elif model_name == 'rf':\n",
    "        model = RandomForestClassifier(oob_score=True)\n",
    "    elif model_name == 'knn':\n",
    "        model = KNeighborsClassifier(n_neighbors=2,leaf_size=20, algorithm='kd_tree',p=1)\n",
    "    elif model_name == 'kmeans':\n",
    "        model = KMeans(n_clusters=2)\n",
    "    elif model_name == 'xgboost':\n",
    "        model = xgb.XGBRegressor(seed=123, n_estimators=5, max_depth=7)\n",
    "    elif model_name == 'svc':\n",
    "        model = svm.SVC(kernel = 'rbf')\n",
    "    else:\n",
    "        print(\"You chose wrong name. Please check again\")\n",
    "    \n",
    "    model.fit(X, Y)"
   ]
  },
  {
   "cell_type": "code",
   "execution_count": 13,
   "id": "devoted-broadcasting",
   "metadata": {},
   "outputs": [
    {
     "name": "stdout",
     "output_type": "stream",
     "text": [
      "<class 'pandas.core.frame.DataFrame'>\n",
      "RangeIndex: 4687 entries, 0 to 4686\n",
      "Data columns (total 27 columns):\n",
      " #   Column                        Non-Null Count  Dtype  \n",
      "---  ------                        --------------  -----  \n",
      " 0   Neo Reference ID              4687 non-null   int64  \n",
      " 1   Name                          4687 non-null   int64  \n",
      " 2   Absolute Magnitude            4687 non-null   float64\n",
      " 3   Est Dia in KM(min)            4687 non-null   float64\n",
      " 4   Est Dia in KM(max)            4687 non-null   float64\n",
      " 5   Epoch Date Close Approach     4687 non-null   int64  \n",
      " 6   Relative Velocity km per sec  4687 non-null   float64\n",
      " 7   Relative Velocity km per hr   4687 non-null   float64\n",
      " 8   Miles per hour                4687 non-null   float64\n",
      " 9   Miss Dist.(kilometers)        4687 non-null   float64\n",
      " 10  Orbit ID                      4687 non-null   int64  \n",
      " 11  Orbit Uncertainity            4687 non-null   int64  \n",
      " 12  Minimum Orbit Intersection    4687 non-null   float64\n",
      " 13  Jupiter Tisserand Invariant   4687 non-null   float64\n",
      " 14  Epoch Osculation              4687 non-null   float64\n",
      " 15  Eccentricity                  4687 non-null   float64\n",
      " 16  Semi Major Axis               4687 non-null   float64\n",
      " 17  Inclination                   4687 non-null   float64\n",
      " 18  Asc Node Longitude            4687 non-null   float64\n",
      " 19  Orbital Period                4687 non-null   float64\n",
      " 20  Perihelion Distance           4687 non-null   float64\n",
      " 21  Perihelion Arg                4687 non-null   float64\n",
      " 22  Aphelion Dist                 4687 non-null   float64\n",
      " 23  Perihelion Time               4687 non-null   float64\n",
      " 24  Mean Anomaly                  4687 non-null   float64\n",
      " 25  Mean Motion                   4687 non-null   float64\n",
      " 26  Hazardous                     4687 non-null   int64  \n",
      "dtypes: float64(21), int64(6)\n",
      "memory usage: 988.8 KB\n"
     ]
    }
   ],
   "source": [
    "df.info()"
   ]
  },
  {
   "cell_type": "code",
   "execution_count": 14,
   "id": "homeless-filing",
   "metadata": {},
   "outputs": [],
   "source": [
    "def model_hyper(model_name):\n",
    "    \"\"\" 'lg' - LogisticRegression\n",
    "        'dt' - DecisionTreeClassifier\n",
    "        'rf' - RandomForestClassifier\n",
    "        'knn' - KNeighborsClassifier\n",
    "        'kmeans' - KMeans\n",
    "        'xgboost' - XGBRegressor\n",
    "        'svc' -  SVC\n",
    "    \"\"\"\n",
    "    if model_name == 'lg':\n",
    "        model = LogisticRegression()\n",
    "    elif model_name == 'dt':\n",
    "        model = DecisionTreeClassifier()\n",
    "    elif model_name == 'rf':\n",
    "        model = RandomForestClassifier()\n",
    "        param_grid = {'max_depth': [3, None],\n",
    "                      'max_features': list(range(1,6)),\n",
    "                      'n_estimators':[10,50,100,200],\n",
    "                      'min_samples_leaf':[1,3,5]}\n",
    "    elif model_name == 'knn':\n",
    "        model = KNeighborsClassifier()\n",
    "        param_grid = {\"n_neighbors\": list(range(2, 20, 2))}\n",
    "    elif model_name == 'kmeans':\n",
    "        model = KMeans()\n",
    "    elif model_name == 'xgboost': \n",
    "        model = xgb.XGBRegressor()\n",
    "        param_grid = {'n_estimators': [50, 100, 200, 500],\n",
    "                      'max_depth': [4, 5, 6, 7],\n",
    "                      'learning_rate': [0.05, 0.1, 0.25, 0.5],\n",
    "                      'subsample': [0.75, 1.00], \n",
    "                      'tree_method': ['gpu_hist']}\n",
    "    elif model_name == 'svc':\n",
    "        model = svm.SVC()\n",
    "    else:\n",
    "        print(\"You chose wrong name. Please check again\")\n",
    "        \n",
    "    grid_search = GridSearchCV(model, param_grid=param_grid, cv=params.cv, verbose=0)\n",
    "    grid_search.fit(X, Y)\n",
    "    best_parameters = grid_search.best_params_  \n",
    "    return best_parameters"
   ]
  },
  {
   "cell_type": "code",
   "execution_count": 15,
   "id": "orange-cambridge",
   "metadata": {},
   "outputs": [],
   "source": [
    "def model_sampling(sample):\n",
    "    \"\"\" 'rus' = RandomUnderSampler\n",
    "        'ros' = RandomOverSampler\n",
    "    \"\"\"\n",
    "    if sample == 'rus':\n",
    "        rus = RandomUnderSampler(random_state=42, replacement=True)# fit predictor and target variable\n",
    "        x_rus, y_rus = rus.fit_resample(X, Y)\n",
    "\n",
    "        print('original dataset shape:', Counter(Y))\n",
    "        print('Resample dataset shape', Counter(y_rus))\n",
    "\n",
    "    elif sample == 'ros':\n",
    "        ros = RandomOverSampler(random_state=42)\n",
    "        x_ros, y_ros = ros.fit_resample(X, Y)\n",
    "        \n",
    "        print('Original dataset shape', Counter(y))\n",
    "        print('Resample dataset shape', Counter(y_ros))\n",
    "\n",
    "    else:\n",
    "        print(\"You chose wrong name. Please check again\")"
   ]
  },
  {
   "cell_type": "code",
   "execution_count": 16,
   "id": "protected-natural",
   "metadata": {},
   "outputs": [],
   "source": [
    "def feature_importance(model):\n",
    "    model.fit(X, Y)\n",
    "    # plot feature importance\n",
    "    plot_importance(model)\n",
    "    pyplot.show()"
   ]
  },
  {
   "cell_type": "code",
   "execution_count": 17,
   "id": "cultural-transcript",
   "metadata": {},
   "outputs": [],
   "source": [
    "def test_results(X, Y, model, model_name):\n",
    "#     print(X.to_dict('records'))\n",
    "    predict = model.predict(X)\n",
    "    acc = accuracy_score(Y, predict)\n",
    "    f1 = f1_score(Y, predict, average='micro')\n",
    "    result = pd.DataFrame({'model':[model_name],'accuracy':[acc],'f1':[f1]})\n",
    "    return result, acc, f1"
   ]
  },
  {
   "cell_type": "code",
   "execution_count": null,
   "id": "closed-production",
   "metadata": {},
   "outputs": [],
   "source": []
  }
 ],
 "metadata": {
  "kernelspec": {
   "display_name": "Python 3",
   "language": "python",
   "name": "python3"
  },
  "language_info": {
   "codemirror_mode": {
    "name": "ipython",
    "version": 3
   },
   "file_extension": ".py",
   "mimetype": "text/x-python",
   "name": "python",
   "nbconvert_exporter": "python",
   "pygments_lexer": "ipython3",
   "version": "3.8.8"
  }
 },
 "nbformat": 4,
 "nbformat_minor": 5
}
