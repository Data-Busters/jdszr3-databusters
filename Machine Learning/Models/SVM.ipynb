{
 "cells": [
  {
   "cell_type": "markdown",
   "id": "catholic-fishing",
   "metadata": {},
   "source": [
    "## 1. Import bibliotek"
   ]
  },
  {
   "cell_type": "code",
   "execution_count": 2,
   "id": "finnish-elephant",
   "metadata": {},
   "outputs": [],
   "source": [
    "import pandas as pd\n",
    "import matplotlib.pyplot as plt\n",
    "import seaborn as sns\n",
    "import numpy as np\n",
    "from sklearn.preprocessing import LabelEncoder\n",
    "from sklearn.model_selection import train_test_split \n",
    "from xgboost import XGBClassifier\n",
    "from xgboost import plot_importance\n",
    "from matplotlib import pyplot"
   ]
  },
  {
   "cell_type": "markdown",
   "id": "substantial-reward",
   "metadata": {},
   "source": [
    "## 2. Załadowanie danych"
   ]
  },
  {
   "cell_type": "code",
   "execution_count": 3,
   "id": "massive-tract",
   "metadata": {},
   "outputs": [
    {
     "output_type": "execute_result",
     "data": {
      "text/plain": [
       "      Neo Reference ID     Name  Absolute Magnitude  Est Dia in KM(min)  \\\n",
       "0              3703080  3703080              21.600            0.127220   \n",
       "1              3723955  3723955              21.300            0.146068   \n",
       "2              2446862  2446862              20.300            0.231502   \n",
       "3              3092506  3092506              27.400            0.008801   \n",
       "4              3514799  3514799              21.600            0.127220   \n",
       "...                ...      ...                 ...                 ...   \n",
       "4682           3759007  3759007              23.900            0.044112   \n",
       "4683           3759295  3759295              28.200            0.006089   \n",
       "4684           3759714  3759714              22.700            0.076658   \n",
       "4685           3759720  3759720              21.800            0.116026   \n",
       "4686           3772978  3772978              19.109            0.400641   \n",
       "\n",
       "      Est Dia in KM(max)  Est Dia in M(min)  Est Dia in M(max)  \\\n",
       "0               0.284472         127.219879         284.472297   \n",
       "1               0.326618         146.067964         326.617897   \n",
       "2               0.517654         231.502122         517.654482   \n",
       "3               0.019681           8.801465          19.680675   \n",
       "4               0.284472         127.219879         284.472297   \n",
       "...                  ...                ...                ...   \n",
       "4682            0.098637          44.111820          98.637028   \n",
       "4683            0.013616           6.089126          13.615700   \n",
       "4684            0.171412          76.657557         171.411509   \n",
       "4685            0.259442         116.025908         259.441818   \n",
       "4686            0.895860         400.640618         895.859655   \n",
       "\n",
       "      Est Dia in Miles(min)  Est Dia in Miles(max)  Est Dia in Feet(min)  ...  \\\n",
       "0                  0.079051               0.176763            417.388066  ...   \n",
       "1                  0.090762               0.202951            479.225620  ...   \n",
       "2                  0.143849               0.321655            759.521423  ...   \n",
       "3                  0.005469               0.012229             28.876199  ...   \n",
       "4                  0.079051               0.176763            417.388066  ...   \n",
       "...                     ...                    ...                   ...  ...   \n",
       "4682               0.027410               0.061290            144.723824  ...   \n",
       "4683               0.003784               0.008460             19.977449  ...   \n",
       "4684               0.047633               0.106510            251.501180  ...   \n",
       "4685               0.072095               0.161210            380.662441  ...   \n",
       "4686               0.248946               0.556661           1314.437764  ...   \n",
       "\n",
       "      Asc Node Longitude Orbital Period  Perihelion Distance  Perihelion Arg  \\\n",
       "0             314.373913     609.599786             0.808259       57.257470   \n",
       "1             136.717242     425.869294             0.718200      313.091975   \n",
       "2             259.475979     643.580228             0.950791      248.415038   \n",
       "3              57.173266     514.082140             0.983902       18.707701   \n",
       "4              84.629307     495.597821             0.967687      158.263596   \n",
       "...                  ...            ...                  ...             ...   \n",
       "4682          164.183305     457.179984             0.741558      276.395697   \n",
       "4683          345.225230     407.185767             0.996434       42.111064   \n",
       "4684           37.026468     690.054279             0.965760      274.692712   \n",
       "4685          163.802910     662.048343             1.185467      180.346090   \n",
       "4686          187.642183     653.679098             0.876110      222.436688   \n",
       "\n",
       "      Aphelion Dist  Perihelion Time  Mean Anomaly  Mean Motion  Equinox  \\\n",
       "0          2.005764     2.458162e+06    264.837533     0.590551    J2000   \n",
       "1          1.497352     2.457795e+06    173.741112     0.845330    J2000   \n",
       "2          1.966857     2.458120e+06    292.893654     0.559371    J2000   \n",
       "3          1.527904     2.457902e+06     68.741007     0.700277    J2000   \n",
       "4          1.483543     2.457814e+06    135.142133     0.726395    J2000   \n",
       "...             ...              ...           ...          ...      ...   \n",
       "4682       1.581299     2.457708e+06    304.306025     0.787436    J2000   \n",
       "4683       1.153835     2.458088e+06    282.978786     0.884117    J2000   \n",
       "4684       2.090708     2.458300e+06    203.501147     0.521698    J2000   \n",
       "4685       1.787733     2.458288e+06    203.524965     0.543767    J2000   \n",
       "4686       2.071980     2.458319e+06    184.820424     0.550729    J2000   \n",
       "\n",
       "      Hazardous  \n",
       "0          True  \n",
       "1         False  \n",
       "2          True  \n",
       "3         False  \n",
       "4          True  \n",
       "...         ...  \n",
       "4682      False  \n",
       "4683      False  \n",
       "4684      False  \n",
       "4685      False  \n",
       "4686      False  \n",
       "\n",
       "[4687 rows x 40 columns]"
      ],
      "text/html": "<div>\n<style scoped>\n    .dataframe tbody tr th:only-of-type {\n        vertical-align: middle;\n    }\n\n    .dataframe tbody tr th {\n        vertical-align: top;\n    }\n\n    .dataframe thead th {\n        text-align: right;\n    }\n</style>\n<table border=\"1\" class=\"dataframe\">\n  <thead>\n    <tr style=\"text-align: right;\">\n      <th></th>\n      <th>Neo Reference ID</th>\n      <th>Name</th>\n      <th>Absolute Magnitude</th>\n      <th>Est Dia in KM(min)</th>\n      <th>Est Dia in KM(max)</th>\n      <th>Est Dia in M(min)</th>\n      <th>Est Dia in M(max)</th>\n      <th>Est Dia in Miles(min)</th>\n      <th>Est Dia in Miles(max)</th>\n      <th>Est Dia in Feet(min)</th>\n      <th>...</th>\n      <th>Asc Node Longitude</th>\n      <th>Orbital Period</th>\n      <th>Perihelion Distance</th>\n      <th>Perihelion Arg</th>\n      <th>Aphelion Dist</th>\n      <th>Perihelion Time</th>\n      <th>Mean Anomaly</th>\n      <th>Mean Motion</th>\n      <th>Equinox</th>\n      <th>Hazardous</th>\n    </tr>\n  </thead>\n  <tbody>\n    <tr>\n      <th>0</th>\n      <td>3703080</td>\n      <td>3703080</td>\n      <td>21.600</td>\n      <td>0.127220</td>\n      <td>0.284472</td>\n      <td>127.219879</td>\n      <td>284.472297</td>\n      <td>0.079051</td>\n      <td>0.176763</td>\n      <td>417.388066</td>\n      <td>...</td>\n      <td>314.373913</td>\n      <td>609.599786</td>\n      <td>0.808259</td>\n      <td>57.257470</td>\n      <td>2.005764</td>\n      <td>2.458162e+06</td>\n      <td>264.837533</td>\n      <td>0.590551</td>\n      <td>J2000</td>\n      <td>True</td>\n    </tr>\n    <tr>\n      <th>1</th>\n      <td>3723955</td>\n      <td>3723955</td>\n      <td>21.300</td>\n      <td>0.146068</td>\n      <td>0.326618</td>\n      <td>146.067964</td>\n      <td>326.617897</td>\n      <td>0.090762</td>\n      <td>0.202951</td>\n      <td>479.225620</td>\n      <td>...</td>\n      <td>136.717242</td>\n      <td>425.869294</td>\n      <td>0.718200</td>\n      <td>313.091975</td>\n      <td>1.497352</td>\n      <td>2.457795e+06</td>\n      <td>173.741112</td>\n      <td>0.845330</td>\n      <td>J2000</td>\n      <td>False</td>\n    </tr>\n    <tr>\n      <th>2</th>\n      <td>2446862</td>\n      <td>2446862</td>\n      <td>20.300</td>\n      <td>0.231502</td>\n      <td>0.517654</td>\n      <td>231.502122</td>\n      <td>517.654482</td>\n      <td>0.143849</td>\n      <td>0.321655</td>\n      <td>759.521423</td>\n      <td>...</td>\n      <td>259.475979</td>\n      <td>643.580228</td>\n      <td>0.950791</td>\n      <td>248.415038</td>\n      <td>1.966857</td>\n      <td>2.458120e+06</td>\n      <td>292.893654</td>\n      <td>0.559371</td>\n      <td>J2000</td>\n      <td>True</td>\n    </tr>\n    <tr>\n      <th>3</th>\n      <td>3092506</td>\n      <td>3092506</td>\n      <td>27.400</td>\n      <td>0.008801</td>\n      <td>0.019681</td>\n      <td>8.801465</td>\n      <td>19.680675</td>\n      <td>0.005469</td>\n      <td>0.012229</td>\n      <td>28.876199</td>\n      <td>...</td>\n      <td>57.173266</td>\n      <td>514.082140</td>\n      <td>0.983902</td>\n      <td>18.707701</td>\n      <td>1.527904</td>\n      <td>2.457902e+06</td>\n      <td>68.741007</td>\n      <td>0.700277</td>\n      <td>J2000</td>\n      <td>False</td>\n    </tr>\n    <tr>\n      <th>4</th>\n      <td>3514799</td>\n      <td>3514799</td>\n      <td>21.600</td>\n      <td>0.127220</td>\n      <td>0.284472</td>\n      <td>127.219879</td>\n      <td>284.472297</td>\n      <td>0.079051</td>\n      <td>0.176763</td>\n      <td>417.388066</td>\n      <td>...</td>\n      <td>84.629307</td>\n      <td>495.597821</td>\n      <td>0.967687</td>\n      <td>158.263596</td>\n      <td>1.483543</td>\n      <td>2.457814e+06</td>\n      <td>135.142133</td>\n      <td>0.726395</td>\n      <td>J2000</td>\n      <td>True</td>\n    </tr>\n    <tr>\n      <th>...</th>\n      <td>...</td>\n      <td>...</td>\n      <td>...</td>\n      <td>...</td>\n      <td>...</td>\n      <td>...</td>\n      <td>...</td>\n      <td>...</td>\n      <td>...</td>\n      <td>...</td>\n      <td>...</td>\n      <td>...</td>\n      <td>...</td>\n      <td>...</td>\n      <td>...</td>\n      <td>...</td>\n      <td>...</td>\n      <td>...</td>\n      <td>...</td>\n      <td>...</td>\n      <td>...</td>\n    </tr>\n    <tr>\n      <th>4682</th>\n      <td>3759007</td>\n      <td>3759007</td>\n      <td>23.900</td>\n      <td>0.044112</td>\n      <td>0.098637</td>\n      <td>44.111820</td>\n      <td>98.637028</td>\n      <td>0.027410</td>\n      <td>0.061290</td>\n      <td>144.723824</td>\n      <td>...</td>\n      <td>164.183305</td>\n      <td>457.179984</td>\n      <td>0.741558</td>\n      <td>276.395697</td>\n      <td>1.581299</td>\n      <td>2.457708e+06</td>\n      <td>304.306025</td>\n      <td>0.787436</td>\n      <td>J2000</td>\n      <td>False</td>\n    </tr>\n    <tr>\n      <th>4683</th>\n      <td>3759295</td>\n      <td>3759295</td>\n      <td>28.200</td>\n      <td>0.006089</td>\n      <td>0.013616</td>\n      <td>6.089126</td>\n      <td>13.615700</td>\n      <td>0.003784</td>\n      <td>0.008460</td>\n      <td>19.977449</td>\n      <td>...</td>\n      <td>345.225230</td>\n      <td>407.185767</td>\n      <td>0.996434</td>\n      <td>42.111064</td>\n      <td>1.153835</td>\n      <td>2.458088e+06</td>\n      <td>282.978786</td>\n      <td>0.884117</td>\n      <td>J2000</td>\n      <td>False</td>\n    </tr>\n    <tr>\n      <th>4684</th>\n      <td>3759714</td>\n      <td>3759714</td>\n      <td>22.700</td>\n      <td>0.076658</td>\n      <td>0.171412</td>\n      <td>76.657557</td>\n      <td>171.411509</td>\n      <td>0.047633</td>\n      <td>0.106510</td>\n      <td>251.501180</td>\n      <td>...</td>\n      <td>37.026468</td>\n      <td>690.054279</td>\n      <td>0.965760</td>\n      <td>274.692712</td>\n      <td>2.090708</td>\n      <td>2.458300e+06</td>\n      <td>203.501147</td>\n      <td>0.521698</td>\n      <td>J2000</td>\n      <td>False</td>\n    </tr>\n    <tr>\n      <th>4685</th>\n      <td>3759720</td>\n      <td>3759720</td>\n      <td>21.800</td>\n      <td>0.116026</td>\n      <td>0.259442</td>\n      <td>116.025908</td>\n      <td>259.441818</td>\n      <td>0.072095</td>\n      <td>0.161210</td>\n      <td>380.662441</td>\n      <td>...</td>\n      <td>163.802910</td>\n      <td>662.048343</td>\n      <td>1.185467</td>\n      <td>180.346090</td>\n      <td>1.787733</td>\n      <td>2.458288e+06</td>\n      <td>203.524965</td>\n      <td>0.543767</td>\n      <td>J2000</td>\n      <td>False</td>\n    </tr>\n    <tr>\n      <th>4686</th>\n      <td>3772978</td>\n      <td>3772978</td>\n      <td>19.109</td>\n      <td>0.400641</td>\n      <td>0.895860</td>\n      <td>400.640618</td>\n      <td>895.859655</td>\n      <td>0.248946</td>\n      <td>0.556661</td>\n      <td>1314.437764</td>\n      <td>...</td>\n      <td>187.642183</td>\n      <td>653.679098</td>\n      <td>0.876110</td>\n      <td>222.436688</td>\n      <td>2.071980</td>\n      <td>2.458319e+06</td>\n      <td>184.820424</td>\n      <td>0.550729</td>\n      <td>J2000</td>\n      <td>False</td>\n    </tr>\n  </tbody>\n</table>\n<p>4687 rows × 40 columns</p>\n</div>"
     },
     "metadata": {},
     "execution_count": 3
    }
   ],
   "source": [
    "df = pd.read_csv(\"nasa.csv\")\n",
    "df"
   ]
  },
  {
   "cell_type": "markdown",
   "id": "laughing-literature",
   "metadata": {},
   "source": [
    "## 3. Przejrzenie zawartości zbioru"
   ]
  },
  {
   "cell_type": "code",
   "execution_count": 4,
   "id": "facial-findings",
   "metadata": {},
   "outputs": [
    {
     "output_type": "execute_result",
     "data": {
      "text/plain": [
       "Index(['Neo Reference ID', 'Name', 'Absolute Magnitude', 'Est Dia in KM(min)',\n",
       "       'Est Dia in KM(max)', 'Est Dia in M(min)', 'Est Dia in M(max)',\n",
       "       'Est Dia in Miles(min)', 'Est Dia in Miles(max)',\n",
       "       'Est Dia in Feet(min)', 'Est Dia in Feet(max)', 'Close Approach Date',\n",
       "       'Epoch Date Close Approach', 'Relative Velocity km per sec',\n",
       "       'Relative Velocity km per hr', 'Miles per hour',\n",
       "       'Miss Dist.(Astronomical)', 'Miss Dist.(lunar)',\n",
       "       'Miss Dist.(kilometers)', 'Miss Dist.(miles)', 'Orbiting Body',\n",
       "       'Orbit ID', 'Orbit Determination Date', 'Orbit Uncertainity',\n",
       "       'Minimum Orbit Intersection', 'Jupiter Tisserand Invariant',\n",
       "       'Epoch Osculation', 'Eccentricity', 'Semi Major Axis', 'Inclination',\n",
       "       'Asc Node Longitude', 'Orbital Period', 'Perihelion Distance',\n",
       "       'Perihelion Arg', 'Aphelion Dist', 'Perihelion Time', 'Mean Anomaly',\n",
       "       'Mean Motion', 'Equinox', 'Hazardous'],\n",
       "      dtype='object')"
      ]
     },
     "metadata": {},
     "execution_count": 4
    }
   ],
   "source": [
    "df.columns"
   ]
  },
  {
   "cell_type": "code",
   "execution_count": 5,
   "id": "finished-piano",
   "metadata": {},
   "outputs": [
    {
     "output_type": "stream",
     "name": "stdout",
     "text": [
      "<class 'pandas.core.frame.DataFrame'>\nRangeIndex: 4687 entries, 0 to 4686\nData columns (total 40 columns):\n #   Column                        Non-Null Count  Dtype  \n---  ------                        --------------  -----  \n 0   Neo Reference ID              4687 non-null   int64  \n 1   Name                          4687 non-null   int64  \n 2   Absolute Magnitude            4687 non-null   float64\n 3   Est Dia in KM(min)            4687 non-null   float64\n 4   Est Dia in KM(max)            4687 non-null   float64\n 5   Est Dia in M(min)             4687 non-null   float64\n 6   Est Dia in M(max)             4687 non-null   float64\n 7   Est Dia in Miles(min)         4687 non-null   float64\n 8   Est Dia in Miles(max)         4687 non-null   float64\n 9   Est Dia in Feet(min)          4687 non-null   float64\n 10  Est Dia in Feet(max)          4687 non-null   float64\n 11  Close Approach Date           4687 non-null   object \n 12  Epoch Date Close Approach     4687 non-null   int64  \n 13  Relative Velocity km per sec  4687 non-null   float64\n 14  Relative Velocity km per hr   4687 non-null   float64\n 15  Miles per hour                4687 non-null   float64\n 16  Miss Dist.(Astronomical)      4687 non-null   float64\n 17  Miss Dist.(lunar)             4687 non-null   float64\n 18  Miss Dist.(kilometers)        4687 non-null   float64\n 19  Miss Dist.(miles)             4687 non-null   float64\n 20  Orbiting Body                 4687 non-null   object \n 21  Orbit ID                      4687 non-null   int64  \n 22  Orbit Determination Date      4687 non-null   object \n 23  Orbit Uncertainity            4687 non-null   int64  \n 24  Minimum Orbit Intersection    4687 non-null   float64\n 25  Jupiter Tisserand Invariant   4687 non-null   float64\n 26  Epoch Osculation              4687 non-null   float64\n 27  Eccentricity                  4687 non-null   float64\n 28  Semi Major Axis               4687 non-null   float64\n 29  Inclination                   4687 non-null   float64\n 30  Asc Node Longitude            4687 non-null   float64\n 31  Orbital Period                4687 non-null   float64\n 32  Perihelion Distance           4687 non-null   float64\n 33  Perihelion Arg                4687 non-null   float64\n 34  Aphelion Dist                 4687 non-null   float64\n 35  Perihelion Time               4687 non-null   float64\n 36  Mean Anomaly                  4687 non-null   float64\n 37  Mean Motion                   4687 non-null   float64\n 38  Equinox                       4687 non-null   object \n 39  Hazardous                     4687 non-null   bool   \ndtypes: bool(1), float64(30), int64(5), object(4)\nmemory usage: 1.4+ MB\n"
     ]
    }
   ],
   "source": [
    "df.info()"
   ]
  },
  {
   "cell_type": "code",
   "execution_count": 6,
   "id": "adjustable-darkness",
   "metadata": {},
   "outputs": [
    {
     "output_type": "execute_result",
     "data": {
      "text/plain": [
       "       Neo Reference ID          Name  Absolute Magnitude  Est Dia in KM(min)  \\\n",
       "count      4.687000e+03  4.687000e+03         4687.000000         4687.000000   \n",
       "mean       3.272298e+06  3.272298e+06           22.267865            0.204604   \n",
       "std        5.486011e+05  5.486011e+05            2.890972            0.369573   \n",
       "min        2.000433e+06  2.000433e+06           11.160000            0.001011   \n",
       "25%        3.097594e+06  3.097594e+06           20.100000            0.033462   \n",
       "50%        3.514799e+06  3.514799e+06           21.900000            0.110804   \n",
       "75%        3.690060e+06  3.690060e+06           24.500000            0.253837   \n",
       "max        3.781897e+06  3.781897e+06           32.100000           15.579552   \n",
       "\n",
       "       Est Dia in KM(max)  Est Dia in M(min)  Est Dia in M(max)  \\\n",
       "count         4687.000000        4687.000000        4687.000000   \n",
       "mean             0.457509         204.604203         457.508906   \n",
       "std              0.826391         369.573402         826.391249   \n",
       "min              0.002260           1.010543           2.259644   \n",
       "25%              0.074824          33.462237          74.823838   \n",
       "50%              0.247765         110.803882         247.765013   \n",
       "75%              0.567597         253.837029         567.596853   \n",
       "max             34.836938       15579.552413       34836.938254   \n",
       "\n",
       "       Est Dia in Miles(min)  Est Dia in Miles(max)  Est Dia in Feet(min)  \\\n",
       "count            4687.000000            4687.000000           4687.000000   \n",
       "mean                0.127135               0.284283            671.273653   \n",
       "std                 0.229642               0.513496           1212.511199   \n",
       "min                 0.000628               0.001404              3.315431   \n",
       "25%                 0.020792               0.046493            109.784247   \n",
       "50%                 0.068850               0.153954            363.529809   \n",
       "75%                 0.157727               0.352688            832.798679   \n",
       "max                 9.680682              21.646663          51114.018738   \n",
       "\n",
       "       ...  Semi Major Axis  Inclination  Asc Node Longitude  Orbital Period  \\\n",
       "count  ...      4687.000000  4687.000000         4687.000000     4687.000000   \n",
       "mean   ...         1.400264    13.373844          172.157275      635.582076   \n",
       "std    ...         0.524154    10.936227          103.276777      370.954727   \n",
       "min    ...         0.615920     0.014513            0.001941      176.557161   \n",
       "25%    ...         1.000635     4.962341           83.081208      365.605031   \n",
       "50%    ...         1.240981    10.311836          172.625393      504.947292   \n",
       "75%    ...         1.678364    19.511681          255.026909      794.195972   \n",
       "max    ...         5.072008    75.406667          359.905890     4172.231343   \n",
       "\n",
       "       Perihelion Distance  Perihelion Arg  Aphelion Dist  Perihelion Time  \\\n",
       "count          4687.000000     4687.000000    4687.000000     4.687000e+03   \n",
       "mean              0.813383      183.932151       1.987144     2.457728e+06   \n",
       "std               0.242059      103.513035       0.951519     9.442264e+02   \n",
       "min               0.080744        0.006918       0.803765     2.450100e+06   \n",
       "25%               0.630834       95.625916       1.266059     2.457815e+06   \n",
       "50%               0.833153      189.761641       1.618195     2.457973e+06   \n",
       "75%               0.997227      271.777557       2.451171     2.458108e+06   \n",
       "max               1.299832      359.993098       8.983852     2.458839e+06   \n",
       "\n",
       "       Mean Anomaly  Mean Motion  \n",
       "count   4687.000000  4687.000000  \n",
       "mean     181.167927     0.738242  \n",
       "std      107.501623     0.342627  \n",
       "min        0.003191     0.086285  \n",
       "25%       87.006918     0.453289  \n",
       "50%      185.718889     0.712946  \n",
       "75%      276.531946     0.984669  \n",
       "max      359.917991     2.039000  \n",
       "\n",
       "[8 rows x 35 columns]"
      ],
      "text/html": "<div>\n<style scoped>\n    .dataframe tbody tr th:only-of-type {\n        vertical-align: middle;\n    }\n\n    .dataframe tbody tr th {\n        vertical-align: top;\n    }\n\n    .dataframe thead th {\n        text-align: right;\n    }\n</style>\n<table border=\"1\" class=\"dataframe\">\n  <thead>\n    <tr style=\"text-align: right;\">\n      <th></th>\n      <th>Neo Reference ID</th>\n      <th>Name</th>\n      <th>Absolute Magnitude</th>\n      <th>Est Dia in KM(min)</th>\n      <th>Est Dia in KM(max)</th>\n      <th>Est Dia in M(min)</th>\n      <th>Est Dia in M(max)</th>\n      <th>Est Dia in Miles(min)</th>\n      <th>Est Dia in Miles(max)</th>\n      <th>Est Dia in Feet(min)</th>\n      <th>...</th>\n      <th>Semi Major Axis</th>\n      <th>Inclination</th>\n      <th>Asc Node Longitude</th>\n      <th>Orbital Period</th>\n      <th>Perihelion Distance</th>\n      <th>Perihelion Arg</th>\n      <th>Aphelion Dist</th>\n      <th>Perihelion Time</th>\n      <th>Mean Anomaly</th>\n      <th>Mean Motion</th>\n    </tr>\n  </thead>\n  <tbody>\n    <tr>\n      <th>count</th>\n      <td>4.687000e+03</td>\n      <td>4.687000e+03</td>\n      <td>4687.000000</td>\n      <td>4687.000000</td>\n      <td>4687.000000</td>\n      <td>4687.000000</td>\n      <td>4687.000000</td>\n      <td>4687.000000</td>\n      <td>4687.000000</td>\n      <td>4687.000000</td>\n      <td>...</td>\n      <td>4687.000000</td>\n      <td>4687.000000</td>\n      <td>4687.000000</td>\n      <td>4687.000000</td>\n      <td>4687.000000</td>\n      <td>4687.000000</td>\n      <td>4687.000000</td>\n      <td>4.687000e+03</td>\n      <td>4687.000000</td>\n      <td>4687.000000</td>\n    </tr>\n    <tr>\n      <th>mean</th>\n      <td>3.272298e+06</td>\n      <td>3.272298e+06</td>\n      <td>22.267865</td>\n      <td>0.204604</td>\n      <td>0.457509</td>\n      <td>204.604203</td>\n      <td>457.508906</td>\n      <td>0.127135</td>\n      <td>0.284283</td>\n      <td>671.273653</td>\n      <td>...</td>\n      <td>1.400264</td>\n      <td>13.373844</td>\n      <td>172.157275</td>\n      <td>635.582076</td>\n      <td>0.813383</td>\n      <td>183.932151</td>\n      <td>1.987144</td>\n      <td>2.457728e+06</td>\n      <td>181.167927</td>\n      <td>0.738242</td>\n    </tr>\n    <tr>\n      <th>std</th>\n      <td>5.486011e+05</td>\n      <td>5.486011e+05</td>\n      <td>2.890972</td>\n      <td>0.369573</td>\n      <td>0.826391</td>\n      <td>369.573402</td>\n      <td>826.391249</td>\n      <td>0.229642</td>\n      <td>0.513496</td>\n      <td>1212.511199</td>\n      <td>...</td>\n      <td>0.524154</td>\n      <td>10.936227</td>\n      <td>103.276777</td>\n      <td>370.954727</td>\n      <td>0.242059</td>\n      <td>103.513035</td>\n      <td>0.951519</td>\n      <td>9.442264e+02</td>\n      <td>107.501623</td>\n      <td>0.342627</td>\n    </tr>\n    <tr>\n      <th>min</th>\n      <td>2.000433e+06</td>\n      <td>2.000433e+06</td>\n      <td>11.160000</td>\n      <td>0.001011</td>\n      <td>0.002260</td>\n      <td>1.010543</td>\n      <td>2.259644</td>\n      <td>0.000628</td>\n      <td>0.001404</td>\n      <td>3.315431</td>\n      <td>...</td>\n      <td>0.615920</td>\n      <td>0.014513</td>\n      <td>0.001941</td>\n      <td>176.557161</td>\n      <td>0.080744</td>\n      <td>0.006918</td>\n      <td>0.803765</td>\n      <td>2.450100e+06</td>\n      <td>0.003191</td>\n      <td>0.086285</td>\n    </tr>\n    <tr>\n      <th>25%</th>\n      <td>3.097594e+06</td>\n      <td>3.097594e+06</td>\n      <td>20.100000</td>\n      <td>0.033462</td>\n      <td>0.074824</td>\n      <td>33.462237</td>\n      <td>74.823838</td>\n      <td>0.020792</td>\n      <td>0.046493</td>\n      <td>109.784247</td>\n      <td>...</td>\n      <td>1.000635</td>\n      <td>4.962341</td>\n      <td>83.081208</td>\n      <td>365.605031</td>\n      <td>0.630834</td>\n      <td>95.625916</td>\n      <td>1.266059</td>\n      <td>2.457815e+06</td>\n      <td>87.006918</td>\n      <td>0.453289</td>\n    </tr>\n    <tr>\n      <th>50%</th>\n      <td>3.514799e+06</td>\n      <td>3.514799e+06</td>\n      <td>21.900000</td>\n      <td>0.110804</td>\n      <td>0.247765</td>\n      <td>110.803882</td>\n      <td>247.765013</td>\n      <td>0.068850</td>\n      <td>0.153954</td>\n      <td>363.529809</td>\n      <td>...</td>\n      <td>1.240981</td>\n      <td>10.311836</td>\n      <td>172.625393</td>\n      <td>504.947292</td>\n      <td>0.833153</td>\n      <td>189.761641</td>\n      <td>1.618195</td>\n      <td>2.457973e+06</td>\n      <td>185.718889</td>\n      <td>0.712946</td>\n    </tr>\n    <tr>\n      <th>75%</th>\n      <td>3.690060e+06</td>\n      <td>3.690060e+06</td>\n      <td>24.500000</td>\n      <td>0.253837</td>\n      <td>0.567597</td>\n      <td>253.837029</td>\n      <td>567.596853</td>\n      <td>0.157727</td>\n      <td>0.352688</td>\n      <td>832.798679</td>\n      <td>...</td>\n      <td>1.678364</td>\n      <td>19.511681</td>\n      <td>255.026909</td>\n      <td>794.195972</td>\n      <td>0.997227</td>\n      <td>271.777557</td>\n      <td>2.451171</td>\n      <td>2.458108e+06</td>\n      <td>276.531946</td>\n      <td>0.984669</td>\n    </tr>\n    <tr>\n      <th>max</th>\n      <td>3.781897e+06</td>\n      <td>3.781897e+06</td>\n      <td>32.100000</td>\n      <td>15.579552</td>\n      <td>34.836938</td>\n      <td>15579.552413</td>\n      <td>34836.938254</td>\n      <td>9.680682</td>\n      <td>21.646663</td>\n      <td>51114.018738</td>\n      <td>...</td>\n      <td>5.072008</td>\n      <td>75.406667</td>\n      <td>359.905890</td>\n      <td>4172.231343</td>\n      <td>1.299832</td>\n      <td>359.993098</td>\n      <td>8.983852</td>\n      <td>2.458839e+06</td>\n      <td>359.917991</td>\n      <td>2.039000</td>\n    </tr>\n  </tbody>\n</table>\n<p>8 rows × 35 columns</p>\n</div>"
     },
     "metadata": {},
     "execution_count": 6
    }
   ],
   "source": [
    "df.describe()"
   ]
  },
  {
   "cell_type": "markdown",
   "id": "lined-efficiency",
   "metadata": {},
   "source": [
    "## 4. One Hot Encoding"
   ]
  },
  {
   "cell_type": "code",
   "execution_count": 7,
   "id": "statewide-renewal",
   "metadata": {},
   "outputs": [
    {
     "output_type": "stream",
     "name": "stdout",
     "text": [
      "<class 'pandas.core.frame.DataFrame'>\nRangeIndex: 4687 entries, 0 to 4686\nData columns (total 29 columns):\n #   Column                        Non-Null Count  Dtype  \n---  ------                        --------------  -----  \n 0   Neo Reference ID              4687 non-null   int64  \n 1   Name                          4687 non-null   int64  \n 2   Absolute Magnitude            4687 non-null   float64\n 3   Est Dia in KM(min)            4687 non-null   float64\n 4   Est Dia in KM(max)            4687 non-null   float64\n 5   Close Approach Date           4687 non-null   object \n 6   Epoch Date Close Approach     4687 non-null   int64  \n 7   Relative Velocity km per sec  4687 non-null   float64\n 8   Relative Velocity km per hr   4687 non-null   float64\n 9   Miles per hour                4687 non-null   float64\n 10  Miss Dist.(kilometers)        4687 non-null   float64\n 11  Orbit ID                      4687 non-null   int64  \n 12  Orbit Determination Date      4687 non-null   object \n 13  Orbit Uncertainity            4687 non-null   int64  \n 14  Minimum Orbit Intersection    4687 non-null   float64\n 15  Jupiter Tisserand Invariant   4687 non-null   float64\n 16  Epoch Osculation              4687 non-null   float64\n 17  Eccentricity                  4687 non-null   float64\n 18  Semi Major Axis               4687 non-null   float64\n 19  Inclination                   4687 non-null   float64\n 20  Asc Node Longitude            4687 non-null   float64\n 21  Orbital Period                4687 non-null   float64\n 22  Perihelion Distance           4687 non-null   float64\n 23  Perihelion Arg                4687 non-null   float64\n 24  Aphelion Dist                 4687 non-null   float64\n 25  Perihelion Time               4687 non-null   float64\n 26  Mean Anomaly                  4687 non-null   float64\n 27  Mean Motion                   4687 non-null   float64\n 28  hazardous                     4687 non-null   int64  \ndtypes: float64(21), int64(6), object(2)\nmemory usage: 1.0+ MB\nNone\n"
     ]
    },
    {
     "output_type": "execute_result",
     "data": {
      "text/plain": [
       "   Neo Reference ID     Name  Absolute Magnitude  Est Dia in KM(min)  \\\n",
       "0           3703080  3703080                21.6            0.127220   \n",
       "1           3723955  3723955                21.3            0.146068   \n",
       "2           2446862  2446862                20.3            0.231502   \n",
       "3           3092506  3092506                27.4            0.008801   \n",
       "4           3514799  3514799                21.6            0.127220   \n",
       "\n",
       "   Est Dia in KM(max) Close Approach Date  Epoch Date Close Approach  \\\n",
       "0            0.284472          1995-01-01               788947200000   \n",
       "1            0.326618          1995-01-01               788947200000   \n",
       "2            0.517654          1995-01-08               789552000000   \n",
       "3            0.019681          1995-01-15               790156800000   \n",
       "4            0.284472          1995-01-15               790156800000   \n",
       "\n",
       "   Relative Velocity km per sec  Relative Velocity km per hr  Miles per hour  \\\n",
       "0                      6.115834                 22017.003799    13680.509944   \n",
       "1                     18.113985                 65210.346095    40519.173105   \n",
       "2                      7.590711                 27326.560182    16979.661798   \n",
       "3                     11.173874                 40225.948191    24994.839864   \n",
       "4                      9.840831                 35426.991794    22012.954985   \n",
       "\n",
       "   ...  Inclination  Asc Node Longitude Orbital Period  Perihelion Distance  \\\n",
       "0  ...     6.025981          314.373913     609.599786             0.808259   \n",
       "1  ...    28.412996          136.717242     425.869294             0.718200   \n",
       "2  ...     4.237961          259.475979     643.580228             0.950791   \n",
       "3  ...     7.905894           57.173266     514.082140             0.983902   \n",
       "4  ...    16.793382           84.629307     495.597821             0.967687   \n",
       "\n",
       "   Perihelion Arg  Aphelion Dist  Perihelion Time  Mean Anomaly  Mean Motion  \\\n",
       "0       57.257470       2.005764     2.458162e+06    264.837533     0.590551   \n",
       "1      313.091975       1.497352     2.457795e+06    173.741112     0.845330   \n",
       "2      248.415038       1.966857     2.458120e+06    292.893654     0.559371   \n",
       "3       18.707701       1.527904     2.457902e+06     68.741007     0.700277   \n",
       "4      158.263596       1.483543     2.457814e+06    135.142133     0.726395   \n",
       "\n",
       "   hazardous  \n",
       "0          1  \n",
       "1          0  \n",
       "2          1  \n",
       "3          0  \n",
       "4          1  \n",
       "\n",
       "[5 rows x 29 columns]"
      ],
      "text/html": "<div>\n<style scoped>\n    .dataframe tbody tr th:only-of-type {\n        vertical-align: middle;\n    }\n\n    .dataframe tbody tr th {\n        vertical-align: top;\n    }\n\n    .dataframe thead th {\n        text-align: right;\n    }\n</style>\n<table border=\"1\" class=\"dataframe\">\n  <thead>\n    <tr style=\"text-align: right;\">\n      <th></th>\n      <th>Neo Reference ID</th>\n      <th>Name</th>\n      <th>Absolute Magnitude</th>\n      <th>Est Dia in KM(min)</th>\n      <th>Est Dia in KM(max)</th>\n      <th>Close Approach Date</th>\n      <th>Epoch Date Close Approach</th>\n      <th>Relative Velocity km per sec</th>\n      <th>Relative Velocity km per hr</th>\n      <th>Miles per hour</th>\n      <th>...</th>\n      <th>Inclination</th>\n      <th>Asc Node Longitude</th>\n      <th>Orbital Period</th>\n      <th>Perihelion Distance</th>\n      <th>Perihelion Arg</th>\n      <th>Aphelion Dist</th>\n      <th>Perihelion Time</th>\n      <th>Mean Anomaly</th>\n      <th>Mean Motion</th>\n      <th>hazardous</th>\n    </tr>\n  </thead>\n  <tbody>\n    <tr>\n      <th>0</th>\n      <td>3703080</td>\n      <td>3703080</td>\n      <td>21.6</td>\n      <td>0.127220</td>\n      <td>0.284472</td>\n      <td>1995-01-01</td>\n      <td>788947200000</td>\n      <td>6.115834</td>\n      <td>22017.003799</td>\n      <td>13680.509944</td>\n      <td>...</td>\n      <td>6.025981</td>\n      <td>314.373913</td>\n      <td>609.599786</td>\n      <td>0.808259</td>\n      <td>57.257470</td>\n      <td>2.005764</td>\n      <td>2.458162e+06</td>\n      <td>264.837533</td>\n      <td>0.590551</td>\n      <td>1</td>\n    </tr>\n    <tr>\n      <th>1</th>\n      <td>3723955</td>\n      <td>3723955</td>\n      <td>21.3</td>\n      <td>0.146068</td>\n      <td>0.326618</td>\n      <td>1995-01-01</td>\n      <td>788947200000</td>\n      <td>18.113985</td>\n      <td>65210.346095</td>\n      <td>40519.173105</td>\n      <td>...</td>\n      <td>28.412996</td>\n      <td>136.717242</td>\n      <td>425.869294</td>\n      <td>0.718200</td>\n      <td>313.091975</td>\n      <td>1.497352</td>\n      <td>2.457795e+06</td>\n      <td>173.741112</td>\n      <td>0.845330</td>\n      <td>0</td>\n    </tr>\n    <tr>\n      <th>2</th>\n      <td>2446862</td>\n      <td>2446862</td>\n      <td>20.3</td>\n      <td>0.231502</td>\n      <td>0.517654</td>\n      <td>1995-01-08</td>\n      <td>789552000000</td>\n      <td>7.590711</td>\n      <td>27326.560182</td>\n      <td>16979.661798</td>\n      <td>...</td>\n      <td>4.237961</td>\n      <td>259.475979</td>\n      <td>643.580228</td>\n      <td>0.950791</td>\n      <td>248.415038</td>\n      <td>1.966857</td>\n      <td>2.458120e+06</td>\n      <td>292.893654</td>\n      <td>0.559371</td>\n      <td>1</td>\n    </tr>\n    <tr>\n      <th>3</th>\n      <td>3092506</td>\n      <td>3092506</td>\n      <td>27.4</td>\n      <td>0.008801</td>\n      <td>0.019681</td>\n      <td>1995-01-15</td>\n      <td>790156800000</td>\n      <td>11.173874</td>\n      <td>40225.948191</td>\n      <td>24994.839864</td>\n      <td>...</td>\n      <td>7.905894</td>\n      <td>57.173266</td>\n      <td>514.082140</td>\n      <td>0.983902</td>\n      <td>18.707701</td>\n      <td>1.527904</td>\n      <td>2.457902e+06</td>\n      <td>68.741007</td>\n      <td>0.700277</td>\n      <td>0</td>\n    </tr>\n    <tr>\n      <th>4</th>\n      <td>3514799</td>\n      <td>3514799</td>\n      <td>21.6</td>\n      <td>0.127220</td>\n      <td>0.284472</td>\n      <td>1995-01-15</td>\n      <td>790156800000</td>\n      <td>9.840831</td>\n      <td>35426.991794</td>\n      <td>22012.954985</td>\n      <td>...</td>\n      <td>16.793382</td>\n      <td>84.629307</td>\n      <td>495.597821</td>\n      <td>0.967687</td>\n      <td>158.263596</td>\n      <td>1.483543</td>\n      <td>2.457814e+06</td>\n      <td>135.142133</td>\n      <td>0.726395</td>\n      <td>1</td>\n    </tr>\n  </tbody>\n</table>\n<p>5 rows × 29 columns</p>\n</div>"
     },
     "metadata": {},
     "execution_count": 7
    }
   ],
   "source": [
    "# Zamiana 'Hazardous' na 1 i 0\n",
    "l_enc = LabelEncoder()\n",
    "df['hazardous'] = l_enc.fit_transform(df.Hazardous) \n",
    "\n",
    "# Usuwanie niepotrzebnych kolumn\n",
    "df = df.drop(['Orbiting Body', 'Equinox', 'Hazardous'], axis=1)\n",
    "df = df.drop(['Est Dia in M(min)', 'Est Dia in M(max)', 'Est Dia in Miles(min)',\n",
    "             'Est Dia in Miles(max)', 'Est Dia in Feet(min)', 'Est Dia in Feet(max)',\n",
    "             'Miss Dist.(Astronomical)', 'Miss Dist.(lunar)', 'Miss Dist.(miles)'], axis=1)\n",
    "\n",
    "# df['EST Dia'] = df[['Est Dia in KM(min)', 'Est Dia in KM(max)']].mean(axis=1) \n",
    "\n",
    "# Sprawdzenie\n",
    "print(df.info())\n",
    "df.head()"
   ]
  },
  {
   "cell_type": "markdown",
   "id": "streaming-residence",
   "metadata": {},
   "source": [
    "## 6. BOXPLOTs"
   ]
  },
  {
   "cell_type": "code",
   "execution_count": 8,
   "id": "gothic-tampa",
   "metadata": {},
   "outputs": [],
   "source": [
    "ds_boxdata = df.drop(['Neo Reference ID', 'Relative Velocity km per hr', 'Epoch Osculation', 'Name', 'Close Approach Date',  'Orbit ID', 'Epoch Date Close Approach', 'Orbit Determination Date', 'hazardous'], axis=1)"
   ]
  },
  {
   "cell_type": "code",
   "execution_count": 9,
   "id": "ordered-happening",
   "metadata": {},
   "outputs": [
    {
     "output_type": "stream",
     "name": "stdout",
     "text": [
      "<class 'pandas.core.frame.DataFrame'>\nRangeIndex: 4687 entries, 0 to 4686\nData columns (total 20 columns):\n #   Column                        Non-Null Count  Dtype  \n---  ------                        --------------  -----  \n 0   Absolute Magnitude            4687 non-null   float64\n 1   Est Dia in KM(min)            4687 non-null   float64\n 2   Est Dia in KM(max)            4687 non-null   float64\n 3   Relative Velocity km per sec  4687 non-null   float64\n 4   Miles per hour                4687 non-null   float64\n 5   Miss Dist.(kilometers)        4687 non-null   float64\n 6   Orbit Uncertainity            4687 non-null   int64  \n 7   Minimum Orbit Intersection    4687 non-null   float64\n 8   Jupiter Tisserand Invariant   4687 non-null   float64\n 9   Eccentricity                  4687 non-null   float64\n 10  Semi Major Axis               4687 non-null   float64\n 11  Inclination                   4687 non-null   float64\n 12  Asc Node Longitude            4687 non-null   float64\n 13  Orbital Period                4687 non-null   float64\n 14  Perihelion Distance           4687 non-null   float64\n 15  Perihelion Arg                4687 non-null   float64\n 16  Aphelion Dist                 4687 non-null   float64\n 17  Perihelion Time               4687 non-null   float64\n 18  Mean Anomaly                  4687 non-null   float64\n 19  Mean Motion                   4687 non-null   float64\ndtypes: float64(19), int64(1)\nmemory usage: 732.5 KB\n"
     ]
    }
   ],
   "source": [
    "ds_boxdata.info()"
   ]
  },
  {
   "cell_type": "code",
   "execution_count": 10,
   "metadata": {},
   "outputs": [],
   "source": [
    "from sklearn.neighbors import LocalOutlierFactor\n",
    "from numpy import percentile"
   ]
  },
  {
   "cell_type": "code",
   "execution_count": 11,
   "metadata": {},
   "outputs": [
    {
     "output_type": "execute_result",
     "data": {
      "text/plain": [
       "Index(['Absolute Magnitude', 'Est Dia in KM(min)', 'Est Dia in KM(max)',\n",
       "       'Relative Velocity km per sec', 'Miles per hour',\n",
       "       'Miss Dist.(kilometers)', 'Orbit Uncertainity',\n",
       "       'Minimum Orbit Intersection', 'Jupiter Tisserand Invariant',\n",
       "       'Eccentricity', 'Semi Major Axis', 'Inclination', 'Asc Node Longitude',\n",
       "       'Orbital Period', 'Perihelion Distance', 'Perihelion Arg',\n",
       "       'Aphelion Dist', 'Perihelion Time', 'Mean Anomaly', 'Mean Motion'],\n",
       "      dtype='object')"
      ]
     },
     "metadata": {},
     "execution_count": 11
    }
   ],
   "source": [
    "ds_columns = ds_boxdata.columns\n",
    "ds_columns"
   ]
  },
  {
   "cell_type": "code",
   "execution_count": 12,
   "metadata": {},
   "outputs": [
    {
     "output_type": "execute_result",
     "data": {
      "text/plain": [
       "(4687, 20)"
      ]
     },
     "metadata": {},
     "execution_count": 12
    }
   ],
   "source": [
    "ds_boxdata.shape"
   ]
  },
  {
   "cell_type": "code",
   "execution_count": 13,
   "metadata": {
    "tags": []
   },
   "outputs": [
    {
     "output_type": "stream",
     "name": "stdout",
     "text": [
      "Column: Absolute Magnitude\n",
      "Percentiles: 25th=20.100, 75th=24.500, IQR=4.400\n",
      "Upper: 31.099999999999998, Lower:13.500000000000004\n",
      "(4685, 20)\n",
      "Column: Est Dia in KM(min)\n",
      "Percentiles: 25th=0.033, 75th=0.254, IQR=0.220\n",
      "Upper: 0.5843992174000001, Lower:-0.29709995060000005\n",
      "(4376, 20)\n",
      "Column: Est Dia in KM(max)\n",
      "Percentiles: 25th=0.071, 75th=0.472, IQR=0.401\n",
      "Upper: 1.0733398237375003, Lower:-0.5299490427625002\n",
      "(4219, 20)\n",
      "Column: Relative Velocity km per sec\n",
      "Percentiles: 25th=8.110, 75th=17.282, IQR=9.172\n",
      "Upper: 31.039334892299994, Lower:-5.647320145299997\n",
      "(4138, 20)\n",
      "Column: Miles per hour\n",
      "Percentiles: 25th=18037.525, 75th=37833.845, IQR=19796.320\n",
      "Upper: 67528.32591420432, Lower:-11656.955904953877\n",
      "(4126, 20)\n",
      "Column: Miss Dist.(kilometers)\n",
      "Percentiles: 25th=17893560.000, 75th=55770205.000, IQR=37876645.000\n",
      "Upper: 112585172.5, Lower:-38921407.5\n",
      "(4126, 20)\n",
      "Column: Orbit Uncertainity\n",
      "Percentiles: 25th=1.000, 75th=7.000, IQR=6.000\n",
      "Upper: 16.0, Lower:-8.0\n",
      "(4126, 20)\n",
      "Column: Minimum Orbit Intersection\n",
      "Percentiles: 25th=0.013, 75th=0.112, IQR=0.099\n",
      "Upper: 0.260344075, Lower:-0.13520212500000003\n",
      "(3920, 20)\n",
      "Column: Jupiter Tisserand Invariant\n",
      "Percentiles: 25th=4.271, 75th=6.097, IQR=1.827\n",
      "Upper: 8.837, Lower:1.5309999999999993\n",
      "(3920, 20)\n",
      "Column: Eccentricity\n",
      "Percentiles: 25th=0.229, 75th=0.487, IQR=0.259\n",
      "Upper: 0.8750220991433351, Lower:-0.15914969626188585\n",
      "(3918, 20)\n",
      "Column: Semi Major Axis\n",
      "Percentiles: 25th=0.986, 75th=1.578, IQR=0.592\n",
      "Upper: 2.4655321354728117, Lower:0.09894394323152811\n",
      "(3750, 20)\n",
      "Column: Inclination\n",
      "Percentiles: 25th=4.549, 75th=17.142, IQR=12.593\n",
      "Upper: 36.03197781225083, Lower:-14.341066055191334\n",
      "(3676, 20)\n",
      "Column: Asc Node Longitude\n",
      "Percentiles: 25th=81.882, 75th=253.605, IQR=171.723\n",
      "Upper: 511.19039332209627, Lower:-175.70297122197655\n",
      "(3676, 20)\n",
      "Column: Orbital Period\n",
      "Percentiles: 25th=353.981, 75th=681.716, IQR=327.736\n",
      "Upper: 1173.3201117221486, Lower:-137.62300234385498\n",
      "(3489, 20)\n",
      "Column: Perihelion Distance\n",
      "Percentiles: 25th=0.632, 75th=0.971, IQR=0.339\n",
      "Upper: 1.4796117226204055, Lower:0.12297679911516157\n",
      "(3488, 20)\n",
      "Column: Perihelion Arg\n",
      "Percentiles: 25th=96.254, 75th=272.852, IQR=176.598\n",
      "Upper: 537.7491388835862, Lower:-168.6426432271948\n",
      "(3488, 20)\n",
      "Column: Aphelion Dist\n",
      "Percentiles: 25th=1.210, 75th=1.977, IQR=0.768\n",
      "Upper: 3.1290712067214277, Lower:0.0580652656629117\n",
      "(3361, 20)\n",
      "Column: Perihelion Time\n",
      "Percentiles: 25th=2457847.948, 75th=2458097.776, IQR=249.828\n",
      "Upper: 2458472.518123714, Lower:2457473.205141974\n",
      "(2989, 20)\n",
      "Column: Mean Anomaly\n",
      "Percentiles: 25th=92.637, 75th=272.296, IQR=179.659\n",
      "Upper: 541.7846470517577, Lower:-176.85155744113376\n",
      "(2989, 20)\n",
      "Column: Mean Motion\n",
      "Percentiles: 25th=0.628, 75th=1.059, IQR=0.432\n",
      "Upper: 1.7069277052098912, Lower:-0.02013511083237074\n",
      "(2980, 20)\n"
     ]
    }
   ],
   "source": [
    "poped_ds_boxdata = ds_boxdata\n",
    "for column in ds_columns:\n",
    "    # calculate interquartile range\n",
    "    q25, q75 = percentile(poped_ds_boxdata[column], 25), percentile(poped_ds_boxdata[column], 75)\n",
    "    iqr = q75 - q25\n",
    "    print(\"Column: {}\".format(column))\n",
    "    print('Percentiles: 25th=%.3f, 75th=%.3f, IQR=%.3f' % (q25, q75, iqr))\n",
    "    lower = q25 - 1.5*iqr\n",
    "    upper = q75 + 1.5*iqr\n",
    "    print(\"Upper: {}, Lower:{}\".format(upper, lower))\n",
    "    # leave only rows higher than lower and lower than upper\n",
    "    poped_ds_boxdata = poped_ds_boxdata.loc[poped_ds_boxdata[column]>=lower]\n",
    "    poped_ds_boxdata = poped_ds_boxdata.loc[poped_ds_boxdata[column]<=upper]\n",
    "    # print(poped_ds_boxdata)\n",
    "    print(poped_ds_boxdata.shape)"
   ]
  },
  {
   "source": [
    "# MODEL SVM #"
   ],
   "cell_type": "markdown",
   "metadata": {}
  },
  {
   "cell_type": "code",
   "execution_count": 14,
   "metadata": {},
   "outputs": [],
   "source": [
    "from sklearn.model_selection import train_test_split\n",
    "X = ds_boxdata\n",
    "y = df['hazardous']\n",
    "X_train, X_test, y_train, y_test = train_test_split(X, y, test_size=0.2, random_state=123)"
   ]
  },
  {
   "cell_type": "code",
   "execution_count": 15,
   "metadata": {},
   "outputs": [
    {
     "output_type": "stream",
     "name": "stdout",
     "text": [
      "X_train shape: (3749, 20)\nX_test shape: (938, 20)\ny_train shape: (3749,)\ny_test shape: (938,)\n"
     ]
    }
   ],
   "source": [
    "print(\"X_train shape: {}\".format(X_train.shape))\n",
    "print(\"X_test shape: {}\".format(X_test.shape))\n",
    "print(\"y_train shape: {}\".format(y_train.shape))\n",
    "print(\"y_test shape: {}\".format(y_test.shape))"
   ]
  },
  {
   "cell_type": "code",
   "execution_count": 16,
   "metadata": {},
   "outputs": [],
   "source": [
    "from sklearn import svm\n",
    "clf = svm.SVC(kernel=\"rbf\")"
   ]
  },
  {
   "cell_type": "code",
   "execution_count": 17,
   "metadata": {},
   "outputs": [
    {
     "output_type": "execute_result",
     "data": {
      "text/plain": [
       "SVC()"
      ]
     },
     "metadata": {},
     "execution_count": 17
    }
   ],
   "source": [
    "clf.fit(X_train, y_train)"
   ]
  },
  {
   "cell_type": "code",
   "execution_count": 21,
   "metadata": {},
   "outputs": [
    {
     "output_type": "stream",
     "name": "stdout",
     "text": [
      "<bound method BaseEstimator.get_params of SVC()>\n"
     ]
    }
   ],
   "source": [
    "print(clf.get_params)\n",
    "clf."
   ]
  },
  {
   "cell_type": "code",
   "execution_count": 19,
   "metadata": {},
   "outputs": [
    {
     "output_type": "stream",
     "name": "stdout",
     "text": [
      "acc:  0.8347547974413646\n"
     ]
    }
   ],
   "source": [
    "from sklearn.metrics import accuracy_score\n",
    "\n",
    "y_pred = clf.predict(X_test)\n",
    "acc = accuracy_score(y_test, y_pred)\n",
    "print(\"acc: \", acc)"
   ]
  }
 ],
 "metadata": {
  "kernelspec": {
   "name": "python3",
   "display_name": "Python 3.8.5 64-bit ('base': conda)"
  },
  "language_info": {
   "codemirror_mode": {
    "name": "ipython",
    "version": 3
   },
   "file_extension": ".py",
   "mimetype": "text/x-python",
   "name": "python",
   "nbconvert_exporter": "python",
   "pygments_lexer": "ipython3",
   "version": "3.8.5"
  },
  "interpreter": {
   "hash": "c36c01fa1ab5aefb8d209c2e3d4347cfec383d454c43e2ba9ed4499078094772"
  }
 },
 "nbformat": 4,
 "nbformat_minor": 5
}